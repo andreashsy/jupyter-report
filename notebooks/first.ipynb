{
 "cells": [
  {
   "cell_type": "code",
   "execution_count": null,
   "id": "2d787024-2095-4e0c-8d75-913af5cee4ba",
   "metadata": {},
   "outputs": [],
   "source": [
    "print(\"This is a demo\")"
   ]
  },
  {
   "cell_type": "code",
   "execution_count": null,
   "id": "2c0403d9-dfd1-4642-a013-15d84f961a11",
   "metadata": {},
   "outputs": [],
   "source": [
    "import plotly.express as px\n",
    "data = {'x': [0, 1, 2, 3, 4], 'y': [0, 1, 4, 9, 16]}\n",
    "fig = px.scatter(data)\n",
    "fig.show()"
   ]
  },
  {
   "cell_type": "code",
   "execution_count": null,
   "id": "6f94ac2b-98a2-4ea1-8c20-b9ff851e2efd",
   "metadata": {},
   "outputs": [],
   "source": []
  }
 ],
 "metadata": {
  "kernelspec": {
   "display_name": "Python 3 (ipykernel)",
   "language": "python",
   "name": "python3"
  },
  "language_info": {
   "codemirror_mode": {
    "name": "ipython",
    "version": 3
   },
   "file_extension": ".py",
   "mimetype": "text/x-python",
   "name": "python",
   "nbconvert_exporter": "python",
   "pygments_lexer": "ipython3",
   "version": "3.10.4"
  }
 },
 "nbformat": 4,
 "nbformat_minor": 5
}
